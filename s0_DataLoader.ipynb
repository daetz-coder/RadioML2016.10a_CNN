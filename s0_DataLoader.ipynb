{
 "cells": [
  {
   "cell_type": "code",
   "execution_count": null,
   "id": "dbb7e9c2-56c8-4c3b-93d1-4c7ee66ea543",
   "metadata": {},
   "outputs": [
    {
     "name": "stdout",
     "output_type": "stream",
     "text": [
      "CSV file saved for SNR 2: snr_data/output_data_snr_2.csv\n",
      "CSV file saved for SNR 8: snr_data/output_data_snr_8.csv\n",
      "CSV file saved for SNR -4: snr_data/output_data_snr_-4.csv\n",
      "CSV file saved for SNR 6: snr_data/output_data_snr_6.csv\n",
      "CSV file saved for SNR 12: snr_data/output_data_snr_12.csv\n",
      "CSV file saved for SNR -6: snr_data/output_data_snr_-6.csv\n",
      "CSV file saved for SNR -20: snr_data/output_data_snr_-20.csv\n",
      "CSV file saved for SNR -18: snr_data/output_data_snr_-18.csv\n",
      "CSV file saved for SNR 16: snr_data/output_data_snr_16.csv\n",
      "CSV file saved for SNR 10: snr_data/output_data_snr_10.csv\n",
      "CSV file saved for SNR 4: snr_data/output_data_snr_4.csv\n",
      "CSV file saved for SNR -2: snr_data/output_data_snr_-2.csv\n",
      "CSV file saved for SNR -8: snr_data/output_data_snr_-8.csv\n",
      "CSV file saved for SNR -12: snr_data/output_data_snr_-12.csv\n",
      "CSV file saved for SNR 0: snr_data/output_data_snr_0.csv\n",
      "CSV file saved for SNR -16: snr_data/output_data_snr_-16.csv\n",
      "CSV file saved for SNR -10: snr_data/output_data_snr_-10.csv\n",
      "CSV file saved for SNR 14: snr_data/output_data_snr_14.csv\n",
      "CSV file saved for SNR 18: snr_data/output_data_snr_18.csv\n"
     ]
    }
   ],
   "source": [
    "import os\n",
    "import pickle\n",
    "import pandas as pd\n",
    "\n",
    "# 指定pickle文件路径\n",
    "pickle_file_path = './data/RML2016.10a_dict.pkl'\n",
    "\n",
    "# 加载数据\n",
    "with open(pickle_file_path, 'rb') as file:\n",
    "    data_dict = pickle.load(file, encoding='latin1')\n",
    "\n",
    "# 创建一个字典，用于按SNR组织数据\n",
    "data_by_snr = {}\n",
    "\n",
    "# 遍历数据字典，将数据按SNR分组\n",
    "for key, value in data_dict.items():\n",
    "    mod_type, snr = key\n",
    "    if snr not in data_by_snr:\n",
    "        data_by_snr[snr] = {}\n",
    "    if mod_type not in data_by_snr[snr]:\n",
    "        data_by_snr[snr][mod_type] = []\n",
    "    # 只保留1000条数据\n",
    "    data_by_snr[snr][mod_type].extend(value[:1000])\n",
    "\n",
    "# 创建输出文件夹\n",
    "output_folder = 'snr_data'\n",
    "os.makedirs(output_folder, exist_ok=True)\n",
    "\n",
    "# 创建并保存每个SNR对应的CSV文件\n",
    "for snr, mod_data in data_by_snr.items():\n",
    "    combined_df = pd.DataFrame()\n",
    "    for mod_type, samples in mod_data.items():\n",
    "        for sample in samples:\n",
    "            flat_sample = sample.flatten()\n",
    "            temp_df = pd.DataFrame([flat_sample], columns=[f'Sample_{i}' for i in range(flat_sample.size)])\n",
    "            temp_df['Mod_Type'] = mod_type\n",
    "            temp_df['SNR'] = snr\n",
    "            combined_df = pd.concat([combined_df, temp_df], ignore_index=True)\n",
    "    \n",
    "    # 保存到CSV文件\n",
    "    csv_file_path = os.path.join(output_folder, f'output_data_snr_{snr}.csv')\n",
    "    combined_df.to_csv(csv_file_path, index=False)\n",
    "    print(f\"CSV file saved for SNR {snr}: {csv_file_path}\")\n",
    "\n",
    "print(\"Data processing complete. All CSV files saved.\")\n"
   ]
  },
  {
   "cell_type": "code",
   "execution_count": null,
   "id": "dcbc5d4f-0227-4e9a-a9a5-c56684b5aa8b",
   "metadata": {},
   "outputs": [],
   "source": []
  }
 ],
 "metadata": {
  "kernelspec": {
   "display_name": "Python 3 (ipykernel)",
   "language": "python",
   "name": "python3"
  },
  "language_info": {
   "codemirror_mode": {
    "name": "ipython",
    "version": 3
   },
   "file_extension": ".py",
   "mimetype": "text/x-python",
   "name": "python",
   "nbconvert_exporter": "python",
   "pygments_lexer": "ipython3",
   "version": "3.8.10"
  }
 },
 "nbformat": 4,
 "nbformat_minor": 5
}
